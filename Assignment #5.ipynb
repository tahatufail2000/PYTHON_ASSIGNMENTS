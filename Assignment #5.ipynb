{
 "cells": [
  {
   "cell_type": "code",
   "execution_count": 1,
   "metadata": {},
   "outputs": [
    {
     "name": "stdout",
     "output_type": "stream",
     "text": [
      "Enter a number to calculate its factorial: 5\n",
      "120\n"
     ]
    }
   ],
   "source": [
    "#Q1\n",
    "def factorial(n):\n",
    "    fact=1\n",
    "    for x in range(1,n+1):\n",
    "        fact=fact*x\n",
    "    return fact\n",
    "\n",
    "number=int(input(\"Enter a number to calculate its factorial: \"))\n",
    "result=factorial(number)\n",
    "print(result)"
   ]
  },
  {
   "cell_type": "code",
   "execution_count": 2,
   "metadata": {},
   "outputs": [
    {
     "name": "stdout",
     "output_type": "stream",
     "text": [
      "Enter a string: PythonProgramminG\n",
      "Upper Case Letters in the string are: 3\n",
      "Lower Case Letters in the string are: 14\n"
     ]
    }
   ],
   "source": [
    "#Q2\n",
    "def cal(x):\n",
    "    ucl=0\n",
    "    lcl=0\n",
    "    for i in range(0,len(x)):\n",
    "        if x[i].isupper():\n",
    "            ucl+=1\n",
    "        elif x[i].islower():\n",
    "            lcl+=1\n",
    "    print(\"Upper Case Letters in the string are:\",ucl)\n",
    "    print(\"Lower Case Letters in the string are:\",lcl)\n",
    "\n",
    "userInput=input(\"Enter a string: \")\n",
    "cal(userInput)"
   ]
  },
  {
   "cell_type": "code",
   "execution_count": 3,
   "metadata": {},
   "outputs": [
    {
     "name": "stdout",
     "output_type": "stream",
     "text": [
      "2 is even\n",
      "4 is even\n",
      "6 is even\n",
      "8 is even\n",
      "10 is even\n",
      "12 is even\n",
      "14 is even\n"
     ]
    }
   ],
   "source": [
    "#Q3\n",
    "list1=[1,2,3,4,5,6,7,8,9,10,11,12,13,14,15]\n",
    "\n",
    "def even(list2):\n",
    "    for x in list2:\n",
    "        if x%2==0:\n",
    "            print(x,\"is even\")\n",
    "            \n",
    "even(list1)"
   ]
  },
  {
   "cell_type": "code",
   "execution_count": 4,
   "metadata": {},
   "outputs": [
    {
     "name": "stdout",
     "output_type": "stream",
     "text": [
      "String is Palindrome\n"
     ]
    }
   ],
   "source": [
    "#Q4\n",
    "def fun(s1):\n",
    "    if s1==s1[len(s1)::-1]:\n",
    "        print(\"String is Palindrome\")\n",
    "    else:\n",
    "        print(\"String is not Palindrome\")\n",
    "\n",
    "fun(\"talat\")"
   ]
  },
  {
   "cell_type": "code",
   "execution_count": 5,
   "metadata": {},
   "outputs": [
    {
     "name": "stdout",
     "output_type": "stream",
     "text": [
      "Enter any number: 11\n",
      "11 is a prime number\n"
     ]
    }
   ],
   "source": [
    "#Q5\n",
    "def prime(n):\n",
    "    for x in range(2,n):\n",
    "        if n%x==0:\n",
    "            print(n,\"is not a prime number\")\n",
    "            break\n",
    "    else:\n",
    "        print(n,\"is a prime number\")\n",
    "num=int(input(\"Enter any number: \"))        \n",
    "prime(num)"
   ]
  },
  {
   "cell_type": "code",
   "execution_count": 6,
   "metadata": {},
   "outputs": [
    {
     "name": "stdout",
     "output_type": "stream",
     "text": [
      "Items purchased from market by you are: ('Shirts', 'Jeans', 'Perfumes', 'Watch', 'Jacket')\n"
     ]
    }
   ],
   "source": [
    "#Q6\n",
    "def shop(*items):\n",
    "    print(\"Items purchased from market by you are:\",items)\n",
    "\n",
    "shop(\"Shirts\",\"Jeans\",\"Perfumes\",\"Watch\",\"Jacket\")"
   ]
  },
  {
   "cell_type": "code",
   "execution_count": null,
   "metadata": {},
   "outputs": [],
   "source": []
  }
 ],
 "metadata": {
  "kernelspec": {
   "display_name": "Python 3",
   "language": "python",
   "name": "python3"
  },
  "language_info": {
   "codemirror_mode": {
    "name": "ipython",
    "version": 3
   },
   "file_extension": ".py",
   "mimetype": "text/x-python",
   "name": "python",
   "nbconvert_exporter": "python",
   "pygments_lexer": "ipython3",
   "version": "3.7.3"
  }
 },
 "nbformat": 4,
 "nbformat_minor": 2
}
