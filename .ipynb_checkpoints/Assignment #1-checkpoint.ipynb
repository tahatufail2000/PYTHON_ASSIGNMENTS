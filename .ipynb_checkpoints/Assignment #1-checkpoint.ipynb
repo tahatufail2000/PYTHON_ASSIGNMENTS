{
 "cells": [
  {
   "cell_type": "code",
   "execution_count": 2,
   "metadata": {},
   "outputs": [
    {
     "name": "stdout",
     "output_type": "stream",
     "text": [
      "Twinkle, twinkle, little star,\n",
      "\tHow I wonder what you are!\n",
      "\t\tUp above the world so high,\n",
      "\t\tLike a diamond in the sky.\n",
      "Twinkle, twinkle, little star,\n",
      "\tHow I wonder what you are!\n"
     ]
    }
   ],
   "source": [
    "print(\"Twinkle, twinkle, little star,\"+\"\\n\\tHow I wonder what you are!\"+\"\\n\\t\\tUp above the world so high,\"+\n",
    "      \"\\n\\t\\tLike a diamond in the sky.\"+\"\\nTwinkle, twinkle, little star,\"+\"\\n\\tHow I wonder what you are!\")"
   ]
  },
  {
   "cell_type": "code",
   "execution_count": 3,
   "metadata": {},
   "outputs": [
    {
     "name": "stdout",
     "output_type": "stream",
     "text": [
      "3.7.4 (default, Aug  9 2019, 18:34:13) [MSC v.1915 64 bit (AMD64)]\n"
     ]
    }
   ],
   "source": [
    "import sys\n",
    "print(sys.version)"
   ]
  },
  {
   "cell_type": "code",
   "execution_count": 4,
   "metadata": {},
   "outputs": [
    {
     "name": "stdout",
     "output_type": "stream",
     "text": [
      "2019-11-05 19:51:10.652996\n"
     ]
    }
   ],
   "source": [
    "import datetime\n",
    "print(datetime.datetime.now())"
   ]
  },
  {
   "cell_type": "code",
   "execution_count": 7,
   "metadata": {},
   "outputs": [
    {
     "name": "stdout",
     "output_type": "stream",
     "text": [
      "Enter radius of circle:4\n",
      "radius is: 50.272\n"
     ]
    }
   ],
   "source": [
    "pi=3.142\n",
    "r=float(input(\"Enter radius of circle:\"))\n",
    "print(\"radius is:\",pi*r**2)"
   ]
  },
  {
   "cell_type": "code",
   "execution_count": 1,
   "metadata": {},
   "outputs": [
    {
     "name": "stdout",
     "output_type": "stream",
     "text": [
      "Enter first name:taha \n",
      "Enter last name:tufail\n",
      "taha  tufail\n",
      "liafut  ahat\n"
     ]
    }
   ],
   "source": [
    "fn=input(\"Enter first name:\")\n",
    "ln=input(\"Enter last name:\")\n",
    "name=fn+\" \"+ln\n",
    "print(name)\n",
    "rev_name=name[::-1]\n",
    "print(rev_name)\n"
   ]
  },
  {
   "cell_type": "code",
   "execution_count": 11,
   "metadata": {},
   "outputs": [
    {
     "name": "stdout",
     "output_type": "stream",
     "text": [
      "Enter 1st no:2\n",
      "Enter 2nd no:3\n",
      "5\n"
     ]
    }
   ],
   "source": [
    "a=int(input(\"Enter 1st no:\"))\n",
    "b=int(input(\"Enter 2nd no:\"))\n",
    "print(a+b)"
   ]
  },
  {
   "cell_type": "code",
   "execution_count": null,
   "metadata": {},
   "outputs": [],
   "source": []
  }
 ],
 "metadata": {
  "kernelspec": {
   "display_name": "Python 3",
   "language": "python",
   "name": "python3"
  },
  "language_info": {
   "codemirror_mode": {
    "name": "ipython",
    "version": 3
   },
   "file_extension": ".py",
   "mimetype": "text/x-python",
   "name": "python",
   "nbconvert_exporter": "python",
   "pygments_lexer": "ipython3",
   "version": "3.7.3"
  }
 },
 "nbformat": 4,
 "nbformat_minor": 2
}
