{
 "cells": [
  {
   "cell_type": "code",
   "execution_count": 2,
   "metadata": {},
   "outputs": [
    {
     "name": "stdout",
     "output_type": "stream",
     "text": [
      "taha\n",
      "tufail\n",
      "24\n",
      "karachi\n",
      "{'first_name': 'taha', 'last_name': 'tufail', 'age': 24, 'city': 'karachi', 'qualification': 'Electrical Engineer'}\n",
      "{'first_name': 'taha', 'last_name': 'tufail', 'age': 24, 'city': 'karachi', 'qualification': 'specialization in Electronics'}\n",
      "{'first_name': 'taha', 'last_name': 'tufail', 'age': 24, 'city': 'karachi'}\n"
     ]
    }
   ],
   "source": [
    "#Q1\n",
    "dic={\"first_name\":\"taha\",\"last_name\":\"tufail\",\"age\":24,\"city\":\"karachi\"}\n",
    "for v in dic.values():\n",
    "    print(v)\n",
    "dic[\"qualification\"]=\"Electrical Engineer\"\n",
    "print(dic)\n",
    "dic[\"qualification\"]=\"specialization in Electronics\"\n",
    "print(dic)\n",
    "del dic[\"qualification\"]\n",
    "print(dic)"
   ]
  },
  {
   "cell_type": "code",
   "execution_count": 2,
   "metadata": {},
   "outputs": [
    {
     "name": "stdout",
     "output_type": "stream",
     "text": [
      "karachi Information {'country': 'pakistan', 'population': '2crore', 'fact': 'city of lights'}\n",
      "Makkah Information {'country': 'KSA', 'population': '1crore', 'fact': 'holy city'}\n",
      "dubai Information {'country': 'UAE', 'population': '1.5crore', 'fact': 'neat and clean'}\n"
     ]
    }
   ],
   "source": [
    "#Q2\n",
    "cities={\"karachi\":{\"country\":\"pakistan\",\"population\":\"2crore\",\"fact\":\"city of lights\"},\n",
    "        \"Makkah\":{\"country\":\"KSA\",\"population\":\"1crore\",\"fact\":\"holy city\"},\n",
    "        \"dubai\":{\"country\":\"UAE\",\"population\":\"1.5crore\",\"fact\":\"neat and clean\"}}\n",
    "for key,val in cities.items():\n",
    "    print(key,\"Information\",val)"
   ]
  },
  {
   "cell_type": "code",
   "execution_count": 3,
   "metadata": {},
   "outputs": [
    {
     "name": "stdout",
     "output_type": "stream",
     "text": [
      "Enter your Age:20\n",
      "ticket is $15\n",
      "Enter your Age:1\n",
      "ticket is free\n",
      "Enter your Age:4\n",
      "ticket is $10\n"
     ]
    }
   ],
   "source": [
    "#Q3\n",
    "count=0\n",
    "while count<3:\n",
    "    age=int(input(\"Enter your Age:\"))\n",
    "    if age<3:\n",
    "        print(\"ticket is free\")\n",
    "    elif age>=3 and age<12:\n",
    "        print(\"ticket is $10\")\n",
    "    elif age>=12:\n",
    "        print(\"ticket is $15\")\n",
    "    count+=1    \n",
    "    "
   ]
  },
  {
   "cell_type": "code",
   "execution_count": 5,
   "metadata": {},
   "outputs": [
    {
     "name": "stdout",
     "output_type": "stream",
     "text": [
      "One of my favorite book is Alice in Wonderland\n"
     ]
    }
   ],
   "source": [
    "#Q4\n",
    "def favorite_book(title):\n",
    "    print(\"One of my favorite book is\",title)\n",
    "\n",
    "t=\"Alice in Wonderland\"\n",
    "favorite_book(t)"
   ]
  },
  {
   "cell_type": "code",
   "execution_count": 9,
   "metadata": {},
   "outputs": [
    {
     "name": "stdout",
     "output_type": "stream",
     "text": [
      "YOU HAVE 3 CHANCES\n",
      "Enter number:2\n",
      "You entered a smaller number\n",
      "Enter number:29\n",
      "You entered a larger number\n",
      "Enter number:10\n",
      "You entered a smaller number\n",
      "Try Again\n"
     ]
    }
   ],
   "source": [
    "#Q5\n",
    "import random\n",
    "rn=random.randint(1,31)\n",
    "print(\"YOU HAVE 3 CHANCES\")\n",
    "counts=0\n",
    "while counts<3:\n",
    "    n=int(input(\"Enter number:\"))\n",
    "    if n>rn:\n",
    "        print(\"You entered a larger number\")\n",
    "        counts+=1\n",
    "    elif n<rn:\n",
    "        print(\"You entered a smaller number\")\n",
    "        counts+=1\n",
    "    elif n==rn:\n",
    "        print(\"Congrats!!You won\")\n",
    "        break\n",
    "if counts==3:\n",
    "    print(\"Try Again\")\n"
   ]
  },
  {
   "cell_type": "code",
   "execution_count": null,
   "metadata": {},
   "outputs": [],
   "source": []
  }
 ],
 "metadata": {
  "kernelspec": {
   "display_name": "Python 3",
   "language": "python",
   "name": "python3"
  },
  "language_info": {
   "codemirror_mode": {
    "name": "ipython",
    "version": 3
   },
   "file_extension": ".py",
   "mimetype": "text/x-python",
   "name": "python",
   "nbconvert_exporter": "python",
   "pygments_lexer": "ipython3",
   "version": "3.7.3"
  }
 },
 "nbformat": 4,
 "nbformat_minor": 2
}
