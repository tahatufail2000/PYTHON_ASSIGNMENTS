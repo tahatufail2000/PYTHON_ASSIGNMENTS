{
 "cells": [
  {
   "cell_type": "markdown",
   "metadata": {},
   "source": [
    "#    ASSIGNMENT_NO 2\n",
    "    "
   ]
  },
  {
   "cell_type": "code",
   "execution_count": 18,
   "metadata": {},
   "outputs": [
    {
     "name": "stdout",
     "output_type": "stream",
     "text": [
      "8\n"
     ]
    }
   ],
   "source": [
    "b=[1,2,2,3,3,3,6,5]#length\n",
    "print( len (b))"
   ]
  },
  {
   "cell_type": "code",
   "execution_count": 19,
   "metadata": {},
   "outputs": [
    {
     "name": "stdout",
     "output_type": "stream",
     "text": [
      "list_1=[1, 2, 3, 4, 5]list_2=[6, 7, 8, 9, 10]\n",
      "new list is by adding x+y=[1, 2, 3, 4, 5, 6, 7, 8, 9, 10]\n"
     ]
    }
   ],
   "source": [
    "x=[1,2,3,4,5]#addition of numeric no in list\n",
    "y=[6,7,8,9,10]\n",
    "print ('list_1='+str(x) + \"list_2=\"+str(y))\n",
    "z=x+y\n",
    "print(\"new list is by adding x+y=\"+str(z))"
   ]
  },
  {
   "cell_type": "code",
   "execution_count": 20,
   "metadata": {},
   "outputs": [
    {
     "data": {
      "text/plain": [
       "99"
      ]
     },
     "execution_count": 20,
     "metadata": {},
     "output_type": "execute_result"
    }
   ],
   "source": [
    "a=[1,5,8,7,9,66,55,99]#maximum number\n",
    "max(a) "
   ]
  },
  {
   "cell_type": "code",
   "execution_count": 13,
   "metadata": {},
   "outputs": [
    {
     "name": "stdout",
     "output_type": "stream",
     "text": [
      "1\n",
      "1\n",
      "2\n",
      "3\n"
     ]
    }
   ],
   "source": [
    "a = [1, 1, 2, 3, 5, 8, 13, 21, 34, 55, 89]#print no less than 5\n",
    "for i in range (len(a)):\n",
    "    if a[i]<5:\n",
    "        print (a[i] )\n",
    "    "
   ]
  },
  {
   "cell_type": "code",
   "execution_count": 16,
   "metadata": {},
   "outputs": [
    {
     "name": "stdout",
     "output_type": "stream",
     "text": [
      "enter marks for phy0\n",
      "enter marks for che55\n",
      "enter marks for maths00\n",
      "enter marks for english21\n",
      "enter marks for urdu0\n",
      "sum: 76\n",
      "average: 15.2\n"
     ]
    }
   ],
   "source": [
    "sub_1=int(input(\"enter marks for phy\"))#program for grade calculation\n",
    "sub_2=int(input(\"enter marks for che\"))\n",
    "sub_3=int(input(\"enter marks for maths\"))\n",
    "sub_4=int(input(\"enter marks for english\"))\n",
    "sub_5=int(input(\"enter marks for urdu\"))\n",
    "\n",
    "sum=(sub_1+sub_2+sub_3+sub_4+sub_5)\n",
    "print ('sum:',sum)\n",
    "average=(sum)/5\n",
    "print ('average:',average)\n",
    "\n",
    "          "
   ]
  },
  {
   "cell_type": "code",
   "execution_count": 17,
   "metadata": {},
   "outputs": [
    {
     "name": "stdout",
     "output_type": "stream",
     "text": [
      "FAIL\n"
     ]
    }
   ],
   "source": [
    "if average>=80:\n",
    "    print ('grade A+')\n",
    "elif average >=70:\n",
    "    print (\"grade A\")\n",
    "elif average>=60:\n",
    "    print (\"grade b\")\n",
    "elif average>=50:\n",
    "     print (\"grade c\")\n",
    "elif average>=40 :\n",
    "     print (\"grade d\")\n",
    "else:\n",
    "    print (\"FAIL\")"
   ]
  },
  {
   "cell_type": "code",
   "execution_count": 17,
   "metadata": {},
   "outputs": [],
   "source": [
    " a=int(input(\"eneter no\"))#even odd\n",
    "    if a%2==0:\n",
    "        print (\"even\")\n",
    "    else:\n",
    "        print (\"odd\")"
   ]
  },
  {
   "cell_type": "code",
   "execution_count": null,
   "metadata": {},
   "outputs": [],
   "source": []
  }
 ],
 "metadata": {
  "kernelspec": {
   "display_name": "Python 3",
   "language": "python",
   "name": "python3"
  },
  "language_info": {
   "codemirror_mode": {
    "name": "ipython",
    "version": 3
   },
   "file_extension": ".py",
   "mimetype": "text/x-python",
   "name": "python",
   "nbconvert_exporter": "python",
   "pygments_lexer": "ipython3",
   "version": "3.7.3"
  }
 },
 "nbformat": 4,
 "nbformat_minor": 2
}
