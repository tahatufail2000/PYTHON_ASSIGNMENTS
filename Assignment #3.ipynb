{
 "cells": [
  {
   "cell_type": "code",
   "execution_count": 1,
   "metadata": {},
   "outputs": [
    {
     "name": "stdout",
     "output_type": "stream",
     "text": [
      "Enter 1st no:2\n",
      "Enter 2nd no:5\n",
      "Enter operator:**\n",
      "2 is to power 5 is 32\n"
     ]
    }
   ],
   "source": [
    "n1=int(input(\"Enter 1st no:\"))\n",
    "n2=int(input(\"Enter 2nd no:\"))\n",
    "opt=input(\"Enter operator:\")\n",
    "\n",
    "if opt==\"+\":\n",
    "    print(\"Sum of\",n1,\"and\",n2,\"is\",n1+n2)\n",
    "elif opt==\"-\":\n",
    "    print(\"Diff of\",n1,\"and\",n2,\"is\",n1-n2)\n",
    "elif opt==\"*\":\n",
    "    print(\"Product of\",n1,\"and\",n2,\"is\",n1*n2)\n",
    "elif opt==\"/\":\n",
    "    print(\"Division of\",n1,\"and\",n2,\"is\",n1/n2)\n",
    "elif opt==\"**\":\n",
    "    print(n1,\"is to power\",n2,\"is\",n1**n2)\n",
    "else:\n",
    "    print(\"invalid operator\")"
   ]
  },
  {
   "cell_type": "code",
   "execution_count": 7,
   "metadata": {},
   "outputs": [
    {
     "name": "stdout",
     "output_type": "stream",
     "text": [
      "Numeric value is present\n"
     ]
    }
   ],
   "source": [
    "list=[\"taha\",\"aadil\",113,0.2]\n",
    "for x in list:\n",
    "    if type(x)==int or type(x)==float:\n",
    "        print(\"Numeric value is present\")\n",
    "        break"
   ]
  },
  {
   "cell_type": "code",
   "execution_count": 5,
   "metadata": {},
   "outputs": [
    {
     "name": "stdout",
     "output_type": "stream",
     "text": [
      "{'name': 'taha', 'field': 'electrical engineering', 'age': '20', 'Address': 'Gulshan'}\n"
     ]
    }
   ],
   "source": [
    "dic1={\"name\":\"taha\",\n",
    "      \"field\":\"electrical engineering\",\n",
    "      \"age\":\"20\"}\n",
    "dic1[\"Address\"]=\"Gulshan\"\n",
    "print(dic1)"
   ]
  },
  {
   "cell_type": "code",
   "execution_count": 11,
   "metadata": {},
   "outputs": [
    {
     "name": "stdout",
     "output_type": "stream",
     "text": [
      "6\n",
      "15\n"
     ]
    }
   ],
   "source": [
    "dic2={0:3,1:5,2:2,3:5}\n",
    "print(sum(dic2.keys()))\n",
    "print(sum(dic2.values()))"
   ]
  },
  {
   "cell_type": "code",
   "execution_count": null,
   "metadata": {},
   "outputs": [],
   "source": [
    "\n",
    "    "
   ]
  },
  {
   "cell_type": "code",
   "execution_count": 1,
   "metadata": {},
   "outputs": [
    {
     "name": "stdout",
     "output_type": "stream",
     "text": [
      "osama is a duplicate value\n",
      "3 is a duplicate value\n"
     ]
    }
   ],
   "source": [
    "list=[\"taha\",\"adil\",10,2,\"osama\",\"omar\",3,\"bilal\",\"osama\",3]\n",
    "for x in range(0,len(list)-1):\n",
    "    for y in range(x+1,len(list)):\n",
    "        if list[x]==list[y]:\n",
    "            print(list[x],\"is a duplicate value\")"
   ]
  },
  {
   "cell_type": "code",
   "execution_count": 4,
   "metadata": {},
   "outputs": [
    {
     "name": "stdout",
     "output_type": "stream",
     "text": [
      "enter key to checkage\n",
      "age already exists\n"
     ]
    }
   ],
   "source": [
    "dic={\"name\":\"taha\",\n",
    "      \"field\":\"software engineering\",\n",
    "      \"age\":\"20\",\n",
    "     \"address\":\"gulshan\"}\n",
    "key=input(\"enter key to check\")\n",
    "count=int(0)\n",
    "\n",
    "for x in dic.keys():\n",
    "    if key==x:\n",
    "        print(key,\"already exists\")\n",
    "    else:\n",
    "        if count==(len(dic)-1):\n",
    "            print(key,\"doesn't exist\")\n",
    "        count+=1\n",
    "    \n"
   ]
  },
  {
   "cell_type": "code",
   "execution_count": null,
   "metadata": {},
   "outputs": [],
   "source": []
  }
 ],
 "metadata": {
  "kernelspec": {
   "display_name": "Python 3",
   "language": "python",
   "name": "python3"
  },
  "language_info": {
   "codemirror_mode": {
    "name": "ipython",
    "version": 3
   },
   "file_extension": ".py",
   "mimetype": "text/x-python",
   "name": "python",
   "nbconvert_exporter": "python",
   "pygments_lexer": "ipython3",
   "version": "3.7.3"
  }
 },
 "nbformat": 4,
 "nbformat_minor": 2
}
